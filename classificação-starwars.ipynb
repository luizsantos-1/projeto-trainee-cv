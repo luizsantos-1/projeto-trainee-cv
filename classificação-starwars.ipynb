{
 "cells": [
  {
   "cell_type": "markdown",
   "metadata": {},
   "source": [
    "Tarefa 1"
   ]
  },
  {
   "cell_type": "code",
   "execution_count": null,
   "metadata": {},
   "outputs": [],
   "source": [
    "import matplotlib.pyplot as plt\n",
    "import matplotlib.image as mpimg"
   ]
  },
  {
   "cell_type": "code",
   "execution_count": null,
   "metadata": {},
   "outputs": [],
   "source": [
    "def print_image(caminho):\n",
    "    img = mpimg.imread(caminho)\n",
    "    plt.imshow(img)\n",
    "    plt.show()"
   ]
  },
  {
   "cell_type": "code",
   "execution_count": null,
   "metadata": {},
   "outputs": [],
   "source": [
    "print_image('/Users/luizeduardosantos/Documents/Turing/projeto-trainee-cv/Dataset Trainee Oficial Top/Darth Vader/0b734b6153da8cc6f27aebaefd083a135581e6d7.jpg')"
   ]
  },
  {
   "cell_type": "code",
   "execution_count": 1,
   "metadata": {},
   "outputs": [],
   "source": [
    "import numpy as np\n",
    "import cv2"
   ]
  },
  {
   "cell_type": "code",
   "execution_count": null,
   "metadata": {},
   "outputs": [],
   "source": [
    "def print_image2(caminho):\n",
    "    img = cv2.imread(caminho,0)\n",
    "    cv2.imshow(\"image\", img)\n",
    "    cv2.waitKey(0)\n",
    "    cv2.destroyAllWindows()"
   ]
  },
  {
   "cell_type": "code",
   "execution_count": null,
   "metadata": {},
   "outputs": [],
   "source": [
    "#Problema - fica rodando sem parar\n",
    "#print_image2('/Users/luizeduardosantos/Documents/Turing/projeto-trainee-cv/Dataset Trainee Oficial Top/Darth Vader/0c7ed5773df0c92a95a543eeba9a077979a5256a.jpg')"
   ]
  },
  {
   "cell_type": "code",
   "execution_count": null,
   "metadata": {},
   "outputs": [],
   "source": [
    "#from PIL import image\n",
    "#im = Image.open(/Users/luizeduardosantos/Documents/Turing/projeto-trainee-cv/Dataset Trainee Oficial Top/Darth Vader/0cda4f48a21354afa1d858690473e872fe34d6f4.jpg)\n",
    "#im.show()"
   ]
  },
  {
   "cell_type": "markdown",
   "metadata": {},
   "source": [
    "TAREFA 2"
   ]
  },
  {
   "cell_type": "code",
   "execution_count": 2,
   "metadata": {},
   "outputs": [
    {
     "data": {
      "text/plain": [
       "array([[255, 255, 255, ...,   0,   0,   0],\n",
       "       [255, 255, 255, ...,   0,   0,   0],\n",
       "       [255, 255, 255, ...,   0,   0,   0],\n",
       "       ...,\n",
       "       [  0,   0,   0, ...,   0,   0,   0],\n",
       "       [  0,   0,   0, ...,   0,   0,   0],\n",
       "       [  0,   0,   0, ...,   0,   0,   0]], dtype=uint8)"
      ]
     },
     "execution_count": 2,
     "metadata": {},
     "output_type": "execute_result"
    }
   ],
   "source": [
    "# usando numpy\n",
    "img = cv2.imread('/Users/luizeduardosantos/Documents/Turing/projeto-trainee-cv/Dataset Trainee Oficial Top/Darth Vader/0c7ed5773df0c92a95a543eeba9a077979a5256a.jpg', 0)\n",
    "def to_bw(img,threshold):\n",
    "    for i in range (np.shape(img)[0]):\n",
    "        for j in range (np.shape(img)[1]):\n",
    "            if img[i][j]< threshold:\n",
    "                img[i][j] = 0\n",
    "            else:\n",
    "                img[i][j]=255\n",
    "to_bw(img,128)\n",
    "img"
   ]
  },
  {
   "cell_type": "code",
   "execution_count": null,
   "metadata": {},
   "outputs": [],
   "source": [
    "# usando opencv\n",
    "img = cv2.imread('/Users/luizeduardosantos/Documents/Turing/projeto-trainee-cv/Dataset Trainee Oficial Top/Darth Vader/0c7ed5773df0c92a95a543eeba9a077979a5256a.jpg', 0)\n",
    "img_preto_branco = cv2.threshold(img, 128, 255, cv2.THRESH_BINARY)[1]\n",
    "img_preto_branco"
   ]
  },
  {
   "cell_type": "markdown",
   "metadata": {},
   "source": [
    "Tarefa 3"
   ]
  },
  {
   "cell_type": "code",
   "execution_count": 2,
   "metadata": {},
   "outputs": [],
   "source": [
    "#flip\n",
    "img = cv2.imread('/Users/luizeduardosantos/Documents/Turing/projeto-trainee-cv/Dataset Trainee Oficial Top/Darth Vader/0c7ed5773df0c92a95a543eeba9a077979a5256a.jpg', 1)\n",
    "flipped=np.empty(np.shape(img))\n",
    "linhas=np.shape(img)[0]-1\n",
    "colunas=np.shape(img)[1]-1\n",
    "\n",
    "for i in range (linhas):\n",
    "    for j in range (colunas):\n",
    "         flipped[linhas-i][colunas-j]=img[i][j]\n",
    "for j in range (colunas):\n",
    "    for i in range (linhas):\n",
    "        flipped[linhas-i][colunas-j]=img[i][j]\n",
    "\n",
    "        \n",
    "        #np.flip(img)"
   ]
  },
  {
   "cell_type": "code",
   "execution_count": 3,
   "metadata": {},
   "outputs": [
    {
     "data": {
      "text/plain": [
       "array([[[  0.,   0.,   0.],\n",
       "        [  0.,   0.,   0.],\n",
       "        [  0.,   0.,   0.],\n",
       "        ...,\n",
       "        [  0.,   0.,   0.],\n",
       "        [  0.,   0.,   0.],\n",
       "        [  0.,   0.,   0.]],\n",
       "\n",
       "       [[  0.,   0.,   0.],\n",
       "        [ 39.,  29.,  29.],\n",
       "        [ 40.,  30.,  30.],\n",
       "        ...,\n",
       "        [ 13.,  11.,  10.],\n",
       "        [ 13.,  11.,  10.],\n",
       "        [ 10.,   8.,   7.]],\n",
       "\n",
       "       [[  0.,   0.,   0.],\n",
       "        [ 39.,  29.,  29.],\n",
       "        [ 40.,  30.,  30.],\n",
       "        ...,\n",
       "        [ 13.,  11.,  10.],\n",
       "        [ 13.,  11.,  10.],\n",
       "        [ 10.,   8.,   7.]],\n",
       "\n",
       "       ...,\n",
       "\n",
       "       [[  0.,   0.,   0.],\n",
       "        [  3.,   1.,   1.],\n",
       "        [  3.,   1.,   1.],\n",
       "        ...,\n",
       "        [175., 169., 162.],\n",
       "        [174., 168., 161.],\n",
       "        [173., 167., 160.]],\n",
       "\n",
       "       [[  0.,   0.,   0.],\n",
       "        [  3.,   1.,   1.],\n",
       "        [  3.,   1.,   1.],\n",
       "        ...,\n",
       "        [174., 166., 159.],\n",
       "        [172., 164., 157.],\n",
       "        [171., 163., 156.]],\n",
       "\n",
       "       [[  0.,   0.,   0.],\n",
       "        [  3.,   1.,   1.],\n",
       "        [  3.,   1.,   1.],\n",
       "        ...,\n",
       "        [171., 163., 156.],\n",
       "        [169., 161., 154.],\n",
       "        [168., 160., 153.]]])"
      ]
     },
     "execution_count": 3,
     "metadata": {},
     "output_type": "execute_result"
    }
   ],
   "source": [
    "flipped"
   ]
  },
  {
   "cell_type": "code",
   "execution_count": 4,
   "metadata": {},
   "outputs": [
    {
     "data": {
      "text/plain": [
       "array([[[168, 160, 153],\n",
       "        [169, 161, 154],\n",
       "        [171, 163, 156],\n",
       "        ...,\n",
       "        [  3,   1,   1],\n",
       "        [  3,   1,   1],\n",
       "        [  3,   1,   1]],\n",
       "\n",
       "       [[171, 163, 156],\n",
       "        [172, 164, 157],\n",
       "        [174, 166, 159],\n",
       "        ...,\n",
       "        [  3,   1,   1],\n",
       "        [  3,   1,   1],\n",
       "        [  3,   1,   1]],\n",
       "\n",
       "       [[173, 167, 160],\n",
       "        [174, 168, 161],\n",
       "        [175, 169, 162],\n",
       "        ...,\n",
       "        [  3,   1,   1],\n",
       "        [  3,   1,   1],\n",
       "        [  3,   1,   1]],\n",
       "\n",
       "       ...,\n",
       "\n",
       "       [[ 10,   8,   7],\n",
       "        [ 13,  11,  10],\n",
       "        [ 13,  11,  10],\n",
       "        ...,\n",
       "        [ 40,  30,  30],\n",
       "        [ 39,  29,  29],\n",
       "        [ 38,  28,  28]],\n",
       "\n",
       "       [[ 10,   8,   7],\n",
       "        [ 13,  11,  10],\n",
       "        [ 13,  11,  10],\n",
       "        ...,\n",
       "        [ 40,  30,  30],\n",
       "        [ 39,  29,  29],\n",
       "        [ 38,  28,  28]],\n",
       "\n",
       "       [[ 10,   8,   7],\n",
       "        [ 13,  11,  10],\n",
       "        [ 13,  11,  10],\n",
       "        ...,\n",
       "        [ 40,  30,  30],\n",
       "        [ 39,  29,  29],\n",
       "        [ 38,  28,  28]]], dtype=uint8)"
      ]
     },
     "execution_count": 4,
     "metadata": {},
     "output_type": "execute_result"
    }
   ],
   "source": [
    "img"
   ]
  },
  {
   "cell_type": "code",
   "execution_count": null,
   "metadata": {},
   "outputs": [],
   "source": [
    "cv2.imshow(\"image\", flipped)\n",
    "cv2.waitKey(0)\n",
    "cv2.destroyAllWindows()"
   ]
  },
  {
   "cell_type": "code",
   "execution_count": 1,
   "metadata": {},
   "outputs": [],
   "source": [
    "import numpy as np\n",
    "import cv2\n",
    "img = cv2.imread('/Users/luizeduardosantos/Documents/Turing/projeto-trainee-cv/Dataset Trainee Oficial Top/Darth Vader/0c7ed5773df0c92a95a543eeba9a077979a5256a.jpg', 1)\n",
    "#np.fliplr(img)\n",
    "#np.flipup(img)\n",
    "\n",
    "#code=np.random.choice([-1,0,1])\n",
    "#cv2.flip(img,code)"
   ]
  },
  {
   "cell_type": "code",
   "execution_count": null,
   "metadata": {},
   "outputs": [],
   "source": [
    "#rotação, brilho, zoom\n",
    "linhas = np.shape(img)[0]\n",
    "colunas = np.shape(img)[1]\n",
    "\n",
    "center= (np.random.randint(linhas*(9/20),linhas*(11/20)),\n",
    "         np.random.randint(colunas*(9/20),colunas*(11/20)))\n",
    "angle= (np.random.random()*360)\n",
    "scale= (np.random.random()/10)+0.95\n",
    "M = cv2.getRotationMatrix2D(center,angle,scale)\n",
    "img_rot = cv2.warpAffine(img,M,(colunas,linhas))"
   ]
  },
  {
   "cell_type": "code",
   "execution_count": null,
   "metadata": {},
   "outputs": [],
   "source": [
    "cv2.imshow(\"image\", img_rot)\n",
    "cv2.waitKey(0)\n",
    "cv2.destroyAllWindows()"
   ]
  },
  {
   "cell_type": "code",
   "execution_count": null,
   "metadata": {},
   "outputs": [],
   "source": [
    "alpha = 1. #contraste\n",
    "beta = 0 #brilho\n",
    "new_img = np.empty(np.shape(img))\n",
    "for y in range(img.shape[0]):\n",
    "    for x in range(img.shape[1]):\n",
    "        for c in range(img.shape[2]):\n",
    "            new_img[y,x,c] = np.clip(alpha*img[y,x,c] + beta, 0, 255)\n",
    "cv2.imshow(\"image\", new_img)\n",
    "cv2.waitKey(0)\n",
    "cv2.destroyAllWindows()"
   ]
  },
  {
   "cell_type": "code",
   "execution_count": null,
   "metadata": {},
   "outputs": [],
   "source": []
  },
  {
   "cell_type": "code",
   "execution_count": null,
   "metadata": {},
   "outputs": [],
   "source": []
  }
 ],
 "metadata": {
  "kernelspec": {
   "display_name": "Python 3",
   "language": "python",
   "name": "python3"
  },
  "language_info": {
   "codemirror_mode": {
    "name": "ipython",
    "version": 3
   },
   "file_extension": ".py",
   "mimetype": "text/x-python",
   "name": "python",
   "nbconvert_exporter": "python",
   "pygments_lexer": "ipython3",
   "version": "3.7.6"
  }
 },
 "nbformat": 4,
 "nbformat_minor": 4
}
